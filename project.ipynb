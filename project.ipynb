{
 "cells": [
  {
   "cell_type": "code",
   "execution_count": 1,
   "metadata": {},
   "outputs": [],
   "source": [
    "import numpy as np"
   ]
  },
  {
   "cell_type": "code",
   "execution_count": 2,
   "metadata": {},
   "outputs": [
    {
     "data": {
      "text/plain": [
       "array([4.65822458e-310, 0.00000000e+000, 6.95093654e-310, 6.95093715e-310,\n",
       "       6.95093654e-310, 6.95093663e-310, 6.95093713e-310, 6.95093654e-310,\n",
       "       6.95093654e-310, 4.65932845e-310, 6.95093715e-310, 6.95093715e-310,\n",
       "       6.95093715e-310, 6.95093654e-310, 6.95093654e-310, 6.95093654e-310,\n",
       "       6.95093654e-310, 6.95093713e-310, 6.95093664e-310, 6.95093654e-310,\n",
       "       6.95093654e-310, 6.95093654e-310, 6.95093663e-310, 6.95093654e-310,\n",
       "       6.95093714e-310, 6.95093654e-310, 6.95093661e-310, 6.95093662e-310,\n",
       "       6.95093665e-310, 6.95093663e-310, 6.95093715e-310, 6.95093654e-310,\n",
       "       6.95093654e-310, 6.95093714e-310, 6.95093665e-310, 6.95093714e-310,\n",
       "       6.95093654e-310, 6.95093654e-310, 6.95093661e-310, 6.95093715e-310,\n",
       "       6.95093654e-310, 6.95093654e-310, 6.95093654e-310, 6.95093654e-310,\n",
       "       6.95093661e-310, 6.95093661e-310, 6.95093663e-310, 6.95093654e-310,\n",
       "       6.95093654e-310, 6.95093662e-310])"
      ]
     },
     "execution_count": 2,
     "metadata": {},
     "output_type": "execute_result"
    }
   ],
   "source": [
    "def hello():\n",
    "    nodes = 1\n",
    "\n",
    "hello()"
   ]
  }
 ],
 "metadata": {
  "kernelspec": {
   "display_name": ".venv",
   "language": "python",
   "name": "python3"
  },
  "language_info": {
   "codemirror_mode": {
    "name": "ipython",
    "version": 3
   },
   "file_extension": ".py",
   "mimetype": "text/x-python",
   "name": "python",
   "nbconvert_exporter": "python",
   "pygments_lexer": "ipython3",
   "version": "3.12.4"
  }
 },
 "nbformat": 4,
 "nbformat_minor": 2
}
