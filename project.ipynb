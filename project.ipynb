{
 "cells": [
  {
   "cell_type": "code",
   "execution_count": 66,
   "metadata": {},
   "outputs": [],
   "source": [
    "import numpy as np\n",
    "import random\n",
    "import matplotlib.pyplot as plt\n",
    "from random import uniform\n",
    "from collections import Counter\n",
    "from tqdm import tqdm"
   ]
  },
  {
   "cell_type": "code",
   "execution_count": 67,
   "metadata": {},
   "outputs": [],
   "source": [
    "# Parameters\n",
    "N = 50 # Number of nodes\n",
    "num_simulations = 30 # Number of simulations per setting\n",
    "T = 50 # Number of time steps\n",
    "initial_fitness = 100  # Initial fitness for all nodes\n",
    "info_prop = .61 # 3 degrees of separation 1st degree\n",
    "num_inter_epoch = N\n",
    "\n",
    "# Prisioner's dilemma\n",
    "coop_gain = 0.2  # Gain when both cooperate\n",
    "def_loss = -0.05 # Loss when both defect\n",
    "suck_payoff = -1  # Loss when one cooperates and the other defects for the cooperator\n",
    "temptation = 0.6  # Gain when one cooperates and the other defects for the defector\n",
    "\n",
    "coop_coop_gain = 2*coop_gain\n",
    "coop_def_gain = suck_payoff + temptation\n",
    "def_def_gain = 2*def_loss"
   ]
  },
  {
   "cell_type": "code",
   "execution_count": 68,
   "metadata": {},
   "outputs": [],
   "source": [
    "# Names\n",
    "COOPERATOR = 1\n",
    "DISCRIMINATOR = 0\n",
    "DEFECTOR = -1\n",
    "\n",
    "COOPERATE = True\n",
    "DEFECT = False\n",
    "\n",
    "GOOD = True\n",
    "BAD = False"
   ]
  },
  {
   "cell_type": "markdown",
   "metadata": {},
   "source": [
    "As we are using boolean values both for the reputation/standing of the nodes and the cooperation/defection actions, with XNOR, we get the next table:\n",
    "\n",
    "| Result | G | B  |\n",
    "| ------ | - | -- |\n",
    "| C      | G | B  |\n",
    "| D      | B | G  |\n",
    "\n",
    "Which corresponds to the \"Stern Judging\" moral system of indirect reciprocity"
   ]
  },
  {
   "cell_type": "markdown",
   "metadata": {},
   "source": [
    "## Well-mixed"
   ]
  },
  {
   "cell_type": "code",
   "execution_count": 69,
   "metadata": {},
   "outputs": [],
   "source": [
    "# Simulation results initialization\n",
    "sim_total_fitness = np.empty(T, dtype=np.float64)\n",
    "sim_cooperative_act = np.empty(T, dtype=np.float64)\n",
    "sim_cooperators = np.empty(T, dtype=np.float64)\n",
    "sim_defectors = np.empty(T, dtype=np.float64)\n",
    "sim_discriminators = np.empty(T, dtype=np.float64)\n",
    "\n",
    "# Aggregate results initialization\n",
    "res_total_fitness = np.zeros(T, dtype=np.float64)\n",
    "res_coop_actions = np.zeros(T, dtype=np.float64)\n",
    "res_cooperators = np.zeros(T, dtype=np.float64)\n",
    "res_defectors = np.zeros(T, dtype=np.float64)\n",
    "res_discriminators = np.zeros(T, dtype=np.float64)"
   ]
  },
  {
   "cell_type": "code",
   "execution_count": 70,
   "metadata": {},
   "outputs": [],
   "source": [
    "def init(f_coop, f_def, f_disc, p_inf):\n",
    "    global nodes, fitness, standing, reputation, perfect_inf\n",
    "\n",
    "    # Initialization of variables\n",
    "    nodes = np.random.choice([COOPERATOR, DEFECTOR, DISCRIMINATOR], size=N, p=[f_coop, f_def, f_disc])\n",
    "    fitness = np.full(N, initial_fitness, dtype=np.float64)\n",
    "    standing = np.ones(N, dtype=np.bool_)\n",
    "    reputation = np.ones((N, N), dtype=np.bool_)\n",
    "\n",
    "    perfect_inf = p_inf"
   ]
  },
  {
   "cell_type": "code",
   "execution_count": 71,
   "metadata": {},
   "outputs": [],
   "source": [
    "def decision(node_id, other_id):\n",
    "    node_t = nodes[node_id]\n",
    "    other_t = nodes[other_id]\n",
    "    \n",
    "    if node_t == COOPERATOR:\n",
    "        return COOPERATE\n",
    "    elif other_t == DEFECTOR:\n",
    "        return DEFECT\n",
    "    \n",
    "    # Discriminator\n",
    "    if perfect_inf:\n",
    "        rep_other = standing[other_id]\n",
    "    else:\n",
    "        rep_other = reputation[node_id, other_id]\n",
    "\n",
    "    return rep_other"
   ]
  },
  {
   "cell_type": "code",
   "execution_count": 72,
   "metadata": {},
   "outputs": [],
   "source": [
    "def update_rep(observer, node1, node2, dec1, dec2, prob_obs):\n",
    "    # Update with the given probability\n",
    "    if uniform(0, 1) > prob_obs:\n",
    "        return\n",
    "    \n",
    "    good1 = reputation[observer, node1]\n",
    "    good2 = reputation[observer, node2]\n",
    "\n",
    "    # XNOR -> Stern judging\n",
    "    reputation[observer, node1] = not (dec1 ^ good2)\n",
    "    reputation[observer, node2] = not (dec2 ^ good1)"
   ]
  },
  {
   "cell_type": "code",
   "execution_count": 73,
   "metadata": {},
   "outputs": [],
   "source": [
    "def interaction(node1, node2):\n",
    "    dec1 = decision(node1, node2)\n",
    "    dec2 = decision(node2, node1)\n",
    "\n",
    "    ret = 0\n",
    "    # Fitness\n",
    "    ## COOP-COOP\n",
    "    if dec1 and dec2:\n",
    "        # Fitness\n",
    "        fitness[node1] += coop_gain\n",
    "        fitness[node2] += coop_gain\n",
    "        ret = 1\n",
    "    ## COOP-DEF\n",
    "    elif dec1 and (not dec2):\n",
    "        fitness[node1] += suck_payoff\n",
    "        fitness[node2] += temptation\n",
    "    ## DEF-COOP\n",
    "    elif dec2:\n",
    "        fitness[node1] += temptation\n",
    "        fitness[node2] += suck_payoff\n",
    "    ## DEF-DEF\n",
    "    else:\n",
    "        fitness[node1] += def_loss\n",
    "        fitness[node2] += def_loss\n",
    "    \n",
    "    # Standing\n",
    "    good1 = standing[node1]\n",
    "    good2 = standing[node2]\n",
    "    ## XNOR -> stern judging\n",
    "    standing[node1] = not (dec1 ^ good2)\n",
    "    standing[node2] = not (dec2 ^ good1)\n",
    "\n",
    "    # Reputation\n",
    "    ## (Nodes in the interaction always observe the interaction)\n",
    "    good1_1 = reputation[node1, node1]\n",
    "    good1_2 = reputation[node1, node2]\n",
    "    good2_1 = reputation[node2, node1]\n",
    "    good2_2 = reputation[node2, node2]\n",
    "    ## XNOR -> stern judging\n",
    "    new_rep1_1 = not (dec1 ^ good1_2)\n",
    "    new_rep1_2 = not (dec2 ^ good1_1)\n",
    "    new_rep2_1 = not (dec1 ^ good2_2)\n",
    "    new_rep2_2 = not (dec2 ^ good2_1)\n",
    "    ## Apply update to all nodes with the given probability\n",
    "    update_observer_rep = lambda observer: update_rep(observer, node1, node2, dec1, dec2, info_prop)\n",
    "    for i in range(N):\n",
    "        update_observer_rep(i)\n",
    "    ## Update the interacting nodes' reputation\n",
    "    reputation[node1, node1] = new_rep1_1\n",
    "    reputation[node1, node2] = new_rep1_2\n",
    "    reputation[node2, node1] = new_rep2_1\n",
    "    reputation[node2, node2] = new_rep2_2\n",
    "    \n",
    "    # Returns 1 if it was a cooperation and 0 if it was a defection\n",
    "    return ret"
   ]
  },
  {
   "cell_type": "code",
   "execution_count": 74,
   "metadata": {},
   "outputs": [],
   "source": [
    "def run_epoch(id):\n",
    "    coop_act = 0\n",
    "    for i in range(num_inter_epoch):\n",
    "        node1, node2 = np.random.choice(N, 2, False)\n",
    "        coop_act += interaction(node1, node2)\n",
    "    \n",
    "    # Calculate epoch metrics\n",
    "    sim_total_fitness[id] = np.sum(fitness)\n",
    "    sim_cooperative_act[id] = coop_act\n",
    "    node_types = Counter(nodes)\n",
    "    sim_cooperators[id] = node_types[COOPERATOR]\n",
    "    sim_defectors[id] = node_types[DEFECTOR]\n",
    "    sim_discriminators[id] = node_types[DISCRIMINATOR]"
   ]
  },
  {
   "cell_type": "code",
   "execution_count": 75,
   "metadata": {},
   "outputs": [],
   "source": [
    "def run_sim(f_coop, f_def, f_disc, perfect_info):\n",
    "    global res_total_fitness, res_coop_actions, res_cooperators, res_defectors, res_discriminators\n",
    "\n",
    "    init(f_coop, f_def, f_disc, perfect_info)\n",
    "    \n",
    "    for epoch in range(T):\n",
    "        run_epoch(epoch)\n",
    "    \n",
    "    # Add to result aggregates\n",
    "    res_total_fitness = np.add(res_total_fitness, sim_total_fitness)\n",
    "    res_coop_actions = np.add(res_coop_actions, sim_cooperative_act)\n",
    "    res_cooperators = np.add(res_cooperators, sim_cooperators)\n",
    "    res_defectors = np.add(res_defectors, sim_defectors)\n",
    "    res_discriminators = np.add(res_discriminators, sim_discriminators)"
   ]
  },
  {
   "cell_type": "code",
   "execution_count": 76,
   "metadata": {},
   "outputs": [
    {
     "data": {
      "text/plain": [
       "np.True_"
      ]
     },
     "execution_count": 76,
     "metadata": {},
     "output_type": "execute_result"
    }
   ],
   "source": [
    "reputation[1, 1] or True"
   ]
  },
  {
   "cell_type": "markdown",
   "metadata": {},
   "source": [
    "### Simulation run and plotting of results"
   ]
  },
  {
   "cell_type": "code",
   "execution_count": 77,
   "metadata": {},
   "outputs": [
    {
     "name": "stderr",
     "output_type": "stream",
     "text": [
      "100%|██████████| 30/30 [00:08<00:00,  3.58it/s]\n"
     ]
    }
   ],
   "source": [
    "for _ in tqdm(range(num_simulations)):\n",
    "    run_sim(0.33, 0.33, 0.34, True)"
   ]
  }
 ],
 "metadata": {
  "kernelspec": {
   "display_name": ".venv",
   "language": "python",
   "name": "python3"
  },
  "language_info": {
   "codemirror_mode": {
    "name": "ipython",
    "version": 3
   },
   "file_extension": ".py",
   "mimetype": "text/x-python",
   "name": "python",
   "nbconvert_exporter": "python",
   "pygments_lexer": "ipython3",
   "version": "3.12.4"
  }
 },
 "nbformat": 4,
 "nbformat_minor": 2
}
